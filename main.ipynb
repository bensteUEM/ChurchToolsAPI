{
 "cells": [
  {
   "cell_type": "markdown",
   "metadata": {},
   "source": [
    "# How to Use:\n",
    "This Notebook should ease the use of the API for \"cleanup\" tasks. It includes some sample for specific use cases that can be adjusted.\n",
    "1. run first block to prepare excecutions by creating api connection\n",
    "2. run any following block to execute a specific function"
   ]
  },
  {
   "cell_type": "code",
   "execution_count": null,
   "metadata": {},
   "outputs": [],
   "source": [
    "import json\n",
    "import logging\n",
    "import logging.config\n",
    "from pathlib import Path\n",
    "\n",
    "from churchtools_api.churchtools_api import ChurchToolsApi\n",
    "from secure.config import ct_domain, ct_token\n",
    "\n",
    "logger = logging.getLogger(__name__)\n",
    "\n",
    "config_file = Path(\"logging_config.json\")\n",
    "with config_file.open(encoding=\"utf-8\") as f_in:\n",
    "    logging_config = json.load(f_in)\n",
    "    log_directory = Path(logging_config[\"handlers\"][\"file\"][\"filename\"]).parent\n",
    "    if not log_directory.exists():\n",
    "        log_directory.mkdir(parents=True)\n",
    "    logging.config.dictConfig(config=logging_config)\n",
    "\n",
    "# Create Session\n",
    "\n",
    "\n",
    "api = ChurchToolsApi(ct_domain)\n",
    "api.login_ct_rest_api(ct_token=ct_token)"
   ]
  },
  {
   "cell_type": "markdown",
   "metadata": {},
   "source": [
    "## Songs & Tag - mass change\n",
    "Helper to iterate all songs"
   ]
  },
  {
   "cell_type": "code",
   "execution_count": null,
   "metadata": {},
   "outputs": [],
   "source": [
    "songs = api.get_songs()\n",
    "print('Got {} songs and the first one is \"{}\"'.format(len(songs), songs[0][\"name\"]))  # noqa: T201"
   ]
  },
  {
   "cell_type": "markdown",
   "metadata": {},
   "source": [
    "Mass change append a tag to all songs - e.g. 51 is tag:\"in ChurchTools vor Skript Import\""
   ]
  },
  {
   "cell_type": "code",
   "execution_count": null,
   "metadata": {},
   "outputs": [],
   "source": [
    "all_song_ids = [value[\"id\"] for value in songs]\n",
    "for song_id in all_song_ids:\n",
    "    api.add_song_tag(song_id=song_id, song_tag_id=51)"
   ]
  },
  {
   "cell_type": "markdown",
   "metadata": {},
   "source": [
    "# Convert Song Category / Number to SongSource SongReference in Default Arrangement"
   ]
  },
  {
   "cell_type": "code",
   "execution_count": null,
   "metadata": {},
   "outputs": [],
   "source": [
    "songs = api.get_songs()"
   ]
  },
  {
   "cell_type": "code",
   "execution_count": null,
   "metadata": {},
   "outputs": [],
   "source": [
    "import time\n",
    "\n",
    "CATEGORY_MAPPING = {1: 10, 3: 10, 4: 4, 5: 5, 6: 6, 7: 7, 8: 8, 15: 9, 9: 11}\n",
    "for iteration, song in enumerate(songs):\n",
    "    if song[\"category\"][\"id\"] in CATEGORY_MAPPING:\n",
    "        arrangement_id = api.get_song_arrangement(song_id=song[\"id\"])[\"id\"]\n",
    "        song_source = CATEGORY_MAPPING[song[\"category\"][\"id\"]]\n",
    "        song_reference = song[\"name\"].split(\" \")[0].lstrip(\"0\")\n",
    "        api.edit_song_arrangement(\n",
    "            song_id=song[\"id\"],\n",
    "            arrangement_id=arrangement_id,\n",
    "            source_id=song_source,\n",
    "            source_ref=song_reference,\n",
    "        )\n",
    "    if iteration % 25 == 0:  # slow down api requests to avoid timeout\n",
    "        TIMEOUT = 10\n",
    "        logger.info(\"sleeping %s sec after %s/%s\", TIMEOUT, iteration, len(songs))\n",
    "        time.sleep(TIMEOUT)"
   ]
  },
  {
   "cell_type": "markdown",
   "metadata": {},
   "source": [
    "# Mass import Gartenschau Termine"
   ]
  },
  {
   "cell_type": "markdown",
   "metadata": {},
   "source": [
    "## prepare dataset"
   ]
  },
  {
   "cell_type": "markdown",
   "metadata": {},
   "source": [
    "### from TXT"
   ]
  },
  {
   "cell_type": "code",
   "execution_count": null,
   "metadata": {},
   "outputs": [],
   "source": [
    "import re\n",
    "from pathlib import Path\n",
    "\n",
    "import pandas as pd\n",
    "\n",
    "pd.set_option(\"display.max_colwidth\", None)\n",
    "\n",
    "with Path(\"import/gartenschau.txt\").open() as file:\n",
    "    raw = file.readlines()\n",
    "\n",
    "PATTERN = r\"([\\d.]+) +(\\d\\d:\\d\\d) +(.+)\"\n",
    "\n",
    "\n",
    "lines = []\n",
    "for line in raw:\n",
    "    line.replace(\"  \", \" \")\n",
    "    data = line[:-1].split(\";\")\n",
    "    split = re.match(pattern=PATTERN, string=data[1].strip()).groups()\n",
    "    lines.append([data[0].strip(), *split, *data[2:]])\n",
    "\n",
    "df_imported = pd.DataFrame(lines)\n",
    "df_imported"
   ]
  },
  {
   "cell_type": "code",
   "execution_count": null,
   "metadata": {},
   "outputs": [],
   "source": [
    "df_imported[\"start_date\"] = pd.to_datetime(\n",
    "    df_imported[1] + \"2025T\" + df_imported[2], format=\"%d.%m.%YT%H:%M\"\n",
    ")\n",
    "df_imported[\"title\"] = df_imported[3]\n",
    "df_imported[\"subtitle\"] = df_imported[4]\n",
    "df_imported[\"notes\"] = df_imported[5]"
   ]
  },
  {
   "cell_type": "markdown",
   "metadata": {},
   "source": [
    "### Cleanup using spreadsheet"
   ]
  },
  {
   "cell_type": "code",
   "execution_count": null,
   "metadata": {},
   "outputs": [],
   "source": [
    "df_imported = df_imported[[\"start_date\", \"title\", \"subtitle\", \"notes\"]]\n",
    "df_imported[\"title\"] = df_imported[\"title\"].str.replace(\"Ökum. \", \"\")\n",
    "df_imported = df_imported.fillna(\"\")"
   ]
  },
  {
   "cell_type": "markdown",
   "metadata": {},
   "source": [
    "Correcting with spreadsheed summary"
   ]
  },
  {
   "cell_type": "code",
   "execution_count": null,
   "metadata": {},
   "outputs": [],
   "source": [
    "# df_imported.to_excel(\"import/gartenschau.xlsx\")  # noqa: ERA001\n",
    "df_new = pd.read_excel(\"import/gartenschau.xlsx\")\n",
    "df_new = df_new.fillna(\"\")\n",
    "df_imported[\"title\"] = df_new.apply(\n",
    "    lambda row: row[\"title\"] + \" (\" + row[\"title2\"] + \")\"\n",
    "    if row[\"title2\"]\n",
    "    else row[\"title\"],\n",
    "    axis=1,\n",
    ")\n",
    "disclaimer = \" - Die Gottesdienste der Gartenschau werden von den Kirchen der ACK\"\n",
    "\" Freudenstadt und Baiersbronn gemeinsam veranstaltet.\"\n",
    "\" Die Organisation des jeweiligen Termins obliegt der jeweiligen Gruppe,\"\n",
    "\" kurzfristige Änderungen vorbehalten.\"\n",
    "df_imported[\"notes\"] = df_imported.apply(lambda row: row[\"notes\"] + disclaimer, axis=1)\n",
    "df_imported"
   ]
  },
  {
   "cell_type": "markdown",
   "metadata": {},
   "source": [
    "## prepare common data for calendar appointment"
   ]
  },
  {
   "cell_type": "code",
   "execution_count": null,
   "metadata": {},
   "outputs": [],
   "source": [
    "from datetime import timedelta\n",
    "\n",
    "import pytz\n",
    "\n",
    "address = {\n",
    "    \"meetingAt\": \"Volksbank Bühne\",\n",
    "    \"city\": \"Baiersbronn\",\n",
    "    \"street\": \"Am Königshammer\",\n",
    "    \"country\": \"DE\",\n",
    "    \"district\": \"Friedrichstal\",\n",
    "    \"latitude\": \"48.4824546\",\n",
    "    \"longitude\": \"8.3756814\",\n",
    "    \"zip\": \"72270\",\n",
    "}\n",
    "\n",
    "GARTENSCHAU_GODI = 73\n",
    "GARTENSCHAU_KONZERT = 76\n",
    "GARTENSCHAU_SONSTIGE = 82\n",
    "GARTENSCHAU_KIDNER = 79\n",
    "\n",
    "cest = pytz.timezone(\"Europe/Berlin\")"
   ]
  },
  {
   "cell_type": "markdown",
   "metadata": {},
   "source": [
    "create events"
   ]
  },
  {
   "cell_type": "markdown",
   "metadata": {},
   "source": [
    "## Delete all existing Events"
   ]
  },
  {
   "cell_type": "code",
   "execution_count": null,
   "metadata": {},
   "outputs": [],
   "source": [
    "from datetime import datetime\n",
    "\n",
    "events = api.get_calendar_appointments(\n",
    "    calendar_ids=[GARTENSCHAU_GODI],\n",
    "    from_=(\n",
    "        datetime(year=2025, month=5, day=1).astimezone(pytz.timezone(\"Europe/Berlin\"))\n",
    "    ),\n",
    "    to_=(\n",
    "        datetime(year=2025, month=10, day=30).astimezone(pytz.timezone(\"Europe/Berlin\"))\n",
    "    ),\n",
    ")\n",
    "for item in events:\n",
    "    api.delete_calender_appointment(\n",
    "        calendar_id=GARTENSCHAU_GODI, appointment_id=item[\"id\"]\n",
    "    )"
   ]
  },
  {
   "cell_type": "markdown",
   "metadata": {},
   "source": [
    "## Create all new entries"
   ]
  },
  {
   "cell_type": "code",
   "execution_count": null,
   "metadata": {},
   "outputs": [],
   "source": [
    "created_appointment_ids = []\n",
    "\n",
    "for _index, line in df_imported.iterrows():\n",
    "    new_id = api.create_calender_appointment(\n",
    "        calendar_id=GARTENSCHAU_GODI,\n",
    "        startDate=cest.localize(line[\"start_date\"]),\n",
    "        endDate=cest.localize(line[\"start_date\"]) + timedelta(minutes=75),\n",
    "        title=line[\"title\"],\n",
    "        subtitle=line[\"subtitle\"],\n",
    "        description=line[\"notes\"],\n",
    "        address=address,\n",
    "    )\n",
    "    created_appointment_ids.append(new_id)\n",
    "\n",
    "created_ids = [item[\"id\"] for item in created_appointment_ids]"
   ]
  },
  {
   "cell_type": "markdown",
   "metadata": {},
   "source": [
    "# CCLI Tonality fix\n",
    "## Prepare data\n",
    "* Retrieve list of all songs\n",
    "* filter to those that have a CCLI number and store relevant information for further processing"
   ]
  },
  {
   "cell_type": "code",
   "execution_count": null,
   "metadata": {},
   "outputs": [],
   "source": [
    "songs = api.get_songs()"
   ]
  },
  {
   "cell_type": "code",
   "execution_count": null,
   "metadata": {},
   "outputs": [],
   "source": [
    "import pandas as pd\n",
    "\n",
    "EXPECTED_MIN_LENGTH_CCLI_ID = 4\n",
    "relevant = [\n",
    "    {\n",
    "        \"id\": song[\"id\"],\n",
    "        \"ccli\": song[\"ccli\"],\n",
    "        \"arrangement_ids\": [arrangement[\"id\"] for arrangement in song[\"arrangements\"]],\n",
    "    }\n",
    "    for song in songs\n",
    "    if len(song[\"ccli\"]) > EXPECTED_MIN_LENGTH_CCLI_ID and song[\"ccli\"] != \"keine\"\n",
    "]\n",
    "\n",
    "df_songs = pd.DataFrame(relevant)\n",
    "df_songs"
   ]
  },
  {
   "cell_type": "markdown",
   "metadata": {},
   "source": [
    "## Web Scraper CCLI\n",
    "* Login into CCLI\n",
    "* Request Song page\n",
    "* Read and save tonality by CCLI ID"
   ]
  },
  {
   "cell_type": "code",
   "execution_count": null,
   "metadata": {},
   "outputs": [],
   "source": [
    "from getpass import getpass\n",
    "from time import sleep\n",
    "\n",
    "from selenium import webdriver\n",
    "from selenium.webdriver.common.by import By\n",
    "from selenium.webdriver.firefox.options import Options\n",
    "from selenium.webdriver.firefox.service import Service\n",
    "from selenium.webdriver.support import expected_conditions\n",
    "from selenium.webdriver.support.ui import WebDriverWait\n",
    "\n",
    "# set CCLI IDs requested based on previous step or own list\n",
    "REQUESTED_CCLI_IDS = list(df_songs[\"ccli\"])\n",
    "# [\"7096771\",\"5588206\",\"4904544\"]  # noqa: ERA001\n",
    "\n",
    "# Login credentials for CCLI SongSelect\n",
    "USERNAME = input(prompt=\"Please enter your CCLI Username e.g. 'example@mymail.com' \")\n",
    "PASSWORD = getpass(\"Please enter the corresponding password - will not be stored\")\n",
    "\n",
    "# Path to Firefox binary - sample is Ubuntu 24.04 compatible\n",
    "firefox_binary_path = \"/snap/firefox/5273/usr/lib/firefox/firefox\"\n",
    "options = Options()\n",
    "options.binary_location = firefox_binary_path\n",
    "driver = webdriver.Firefox(options=options, service=Service(\"/snap/bin/geckodriver\"))\n",
    "\n",
    "# Navigate to the login page\n",
    "driver.get(\"https://profile.ccli.com/Account/Signin\")\n",
    "wait = WebDriverWait(driver, 20)  # Wait for up to 20 seconds\n",
    "button = wait.until(\n",
    "    expected_conditions.element_to_be_clickable(\n",
    "        (By.ID, \"CybotCookiebotDialogBodyLevelButtonLevelOptinAllowAll\")\n",
    "    )\n",
    ")\n",
    "if button:\n",
    "    button.click()\n",
    "\n",
    "# Find the username and password fields and enter credentials\n",
    "username_field = driver.find_element(By.NAME, \"EmailAddress\")\n",
    "username_field.send_keys(USERNAME)\n",
    "password_field = driver.find_element(By.NAME, \"Password\")\n",
    "password_field.send_keys(PASSWORD)\n",
    "\n",
    "del USERNAME, PASSWORD\n",
    "\n",
    "# execute login\n",
    "button = wait.until(expected_conditions.element_to_be_clickable((By.ID, \"sign-in\")))\n",
    "if button:\n",
    "    button.click()\n",
    "\n",
    "ccli_tonality_map = {}\n",
    "\n",
    "for ccli_id in REQUESTED_CCLI_IDS:\n",
    "    sleep(1)\n",
    "    driver.get(f\"https://songselect.ccli.com/songs/{ccli_id}\")\n",
    "    wait.until(\n",
    "        lambda driver: driver.execute_script(\"return document.readyState\") == \"complete\"\n",
    "    )\n",
    "    sleep(4)\n",
    "    result = next(\n",
    "        item.text\n",
    "        for item in driver.find_elements(by=By.CLASS_NAME, value=\"meta-data-group\")\n",
    "        if item.text.startswith(\"Standardtonart\")\n",
    "    )[15:]\n",
    "\n",
    "    ccli_tonality_map[ccli_id] = result\n",
    "\n",
    "# Close the driver\n",
    "driver.quit()\n",
    "\n",
    "# export based on PD dataframe\n",
    "df_ccli = pd.DataFrame.from_dict(ccli_tonality_map, orient=\"index\")\n",
    "df_ccli.to_csv(\"import/ccli.csv\")"
   ]
  },
  {
   "cell_type": "markdown",
   "metadata": {},
   "source": [
    "## Merge CCLI mapping to existing song information\n",
    "* import previously generated mapping\n",
    "* rename columns\n",
    "* merge dataframes"
   ]
  },
  {
   "cell_type": "code",
   "execution_count": null,
   "metadata": {},
   "outputs": [],
   "source": [
    "df_ccli = pd.read_csv(\"import/ccli.csv\", dtype=str)\n",
    "df_ccli.columns = [\"ccli\", \"tonart\"]\n",
    "df_songs_ccli = df_songs.merge(df_ccli, how=\"left\", on=\"ccli\")"
   ]
  },
  {
   "cell_type": "code",
   "execution_count": null,
   "metadata": {},
   "outputs": [],
   "source": [
    "from time import sleep\n",
    "\n",
    "for index, row in df_songs_ccli.iterrows():\n",
    "    song_id = row[\"id\"]\n",
    "    arrangement_ids = row[\"arrangement_ids\"]\n",
    "    tonality = row[\"tonart\"]\n",
    "    logger.info(song_id, arrangement_ids, tonality)\n",
    "    for a_id in arrangement_ids:\n",
    "        api.edit_song_arrangement(\n",
    "            song_id=song_id, arrangement_id=a_id, tonality=tonality\n",
    "        )\n",
    "    if index % 25 == 0:\n",
    "        logger.info(\n",
    "            \"sleep 5 after 25 to avoid api overload @%s/%s\", index, len(df_songs_ccli)\n",
    "        )\n",
    "        sleep(5)"
   ]
  }
 ],
 "metadata": {
  "kernelspec": {
   "display_name": ".venv",
   "language": "python",
   "name": "python3"
  },
  "language_info": {
   "codemirror_mode": {
    "name": "ipython",
    "version": 3
   },
   "file_extension": ".py",
   "mimetype": "text/x-python",
   "name": "python",
   "nbconvert_exporter": "python",
   "pygments_lexer": "ipython3",
   "version": "3.12.3"
  },
  "orig_nbformat": 4
 },
 "nbformat": 4,
 "nbformat_minor": 2
}
