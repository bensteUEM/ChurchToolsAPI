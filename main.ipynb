{
 "cells": [
  {
   "cell_type": "markdown",
   "metadata": {},
   "source": [
    "# How to Use:\n",
    "This Notebook should ease the use of the API for \"cleanup\" tasks. It includes some sample for specific use cases that can be adjusted.\n",
    "1. run first block to prepare excecutions by creating api connection\n",
    "2. run any following block to execute a specific function"
   ]
  },
  {
   "cell_type": "code",
   "execution_count": null,
   "metadata": {},
   "outputs": [],
   "source": [
    "import logging\n",
    "from churchtools_api.churchtools_api import ChurchToolsApi\n",
    "\n",
    "logging.getLogger().setLevel(logging.INFO)\n",
    "logging.info(\"Started main\")\n",
    "\n",
    "# Create Session\n",
    "from secure.config import ct_domain\n",
    "from secure.config import ct_token\n",
    "api = ChurchToolsApi(ct_domain)\n",
    "api.login_ct_rest_api(ct_token=ct_token)"
   ]
  },
  {
   "cell_type": "markdown",
   "metadata": {},
   "source": [
    "## Song Tag - mass change\n",
    "Helper to append a tag to all songs - e.g. 51 is tag:\"in ChurchTools vor Skript Import\""
   ]
  },
  {
   "cell_type": "code",
   "execution_count": null,
   "metadata": {},
   "outputs": [],
   "source": [
    "songs = api.get_songs()\n",
    "all_song_ids = [value['id'] for value in songs]\n",
    "for id in all_song_ids:\n",
    "    api.add_song_tag(id, 51)"
   ]
  }
 ],
 "metadata": {
  "kernelspec": {
   "display_name": ".venv",
   "language": "python",
   "name": "python3"
  },
  "language_info": {
   "codemirror_mode": {
    "name": "ipython",
    "version": 3
   },
   "file_extension": ".py",
   "mimetype": "text/x-python",
   "name": "python",
   "nbconvert_exporter": "python",
   "pygments_lexer": "ipython3",
   "version": "3.11.4"
  },
  "orig_nbformat": 4
 },
 "nbformat": 4,
 "nbformat_minor": 2
}
