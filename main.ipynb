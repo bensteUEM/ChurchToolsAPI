{
 "cells": [
  {
   "cell_type": "markdown",
   "metadata": {},
   "source": [
    "# How to Use:\n",
    "This Notebook should ease the use of the API for \"cleanup\" tasks. It includes some sample for specific use cases that can be adjusted.\n",
    "1. run first block to prepare excecutions by creating api connection\n",
    "2. run any following block to execute a specific function"
   ]
  },
  {
   "cell_type": "code",
   "execution_count": null,
   "metadata": {},
   "outputs": [],
   "source": [
    "import logging\n",
    "import logging.config\n",
    "import json\n",
    "from pathlib import Path\n",
    "from churchtools_api.churchtools_api import ChurchToolsApi\n",
    "\n",
    "logger = logging.getLogger(__name__)\n",
    "\n",
    "config_file = Path(\"../logging_config.json\")\n",
    "with config_file.open(encoding=\"utf-8\") as f_in:\n",
    "    logging_config = json.load(f_in)\n",
    "    log_directory = Path(logging_config[\"handlers\"][\"file\"][\"filename\"]).parent\n",
    "    if not log_directory.exists():\n",
    "        log_directory.mkdir(parents=True)\n",
    "    logging.config.dictConfig(config=logging_config)\n",
    "\n",
    "# Create Session\n",
    "from secure.config import ct_domain\n",
    "from secure.config import ct_token\n",
    "api = ChurchToolsApi(ct_domain)\n",
    "api.login_ct_rest_api(ct_token=ct_token)"
   ]
  },
  {
   "cell_type": "markdown",
   "metadata": {},
   "source": [
    "## Songs & Tag - mass change\n",
    "Helper to iterate all songs"
   ]
  },
  {
   "cell_type": "code",
   "execution_count": null,
   "metadata": {},
   "outputs": [],
   "source": [
    "songs = api.get_songs()\n",
    "print('Got {} songs and the first one is \"{}\"'.format(len(songs),songs[0]['name']))"
   ]
  },
  {
   "cell_type": "markdown",
   "metadata": {},
   "source": [
    "Mass change append a tag to all songs - e.g. 51 is tag:\"in ChurchTools vor Skript Import\""
   ]
  },
  {
   "cell_type": "code",
   "execution_count": null,
   "metadata": {},
   "outputs": [],
   "source": [
    "all_song_ids = [value['id'] for value in songs]\n",
    "for id in all_song_ids:\n",
    "    api.add_song_tag(id, 51)"
   ]
  }
 ],
 "metadata": {
  "kernelspec": {
   "display_name": ".venv",
   "language": "python",
   "name": "python3"
  },
  "language_info": {
   "codemirror_mode": {
    "name": "ipython",
    "version": 3
   },
   "file_extension": ".py",
   "mimetype": "text/x-python",
   "name": "python",
   "nbconvert_exporter": "python",
   "pygments_lexer": "ipython3",
   "version": "3.11.4"
  },
  "orig_nbformat": 4
 },
 "nbformat": 4,
 "nbformat_minor": 2
}
