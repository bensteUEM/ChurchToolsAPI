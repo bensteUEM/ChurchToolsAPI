{
 "cells": [
  {
   "cell_type": "markdown",
   "metadata": {},
   "source": [
    "# How to Use:\n",
    "This Notebook should ease the use of the API for \"cleanup\" tasks. It includes some sample for specific use cases that can be adjusted.\n",
    "1. run first block to prepare excecutions by creating api connection\n",
    "2. run any following block to execute a specific function"
   ]
  },
  {
   "cell_type": "code",
   "execution_count": null,
   "metadata": {},
   "outputs": [],
   "source": [
    "import json\n",
    "import logging\n",
    "import logging.config\n",
    "from pathlib import Path\n",
    "\n",
    "from churchtools_api.churchtools_api import ChurchToolsApi\n",
    "from secure.config import ct_domain, ct_token\n",
    "\n",
    "logger = logging.getLogger(__name__)\n",
    "\n",
    "config_file = Path(\"logging_config.json\")\n",
    "with config_file.open(encoding=\"utf-8\") as f_in:\n",
    "    logging_config = json.load(f_in)\n",
    "    log_directory = Path(logging_config[\"handlers\"][\"file\"][\"filename\"]).parent\n",
    "    if not log_directory.exists():\n",
    "        log_directory.mkdir(parents=True)\n",
    "    logging.config.dictConfig(config=logging_config)\n",
    "\n",
    "# Create Session\n",
    "\n",
    "\n",
    "api = ChurchToolsApi(ct_domain)\n",
    "api.login_ct_rest_api(ct_token=ct_token)"
   ]
  },
  {
   "cell_type": "markdown",
   "metadata": {},
   "source": [
    "## Songs & Tag - mass change\n",
    "Helper to iterate all songs"
   ]
  },
  {
   "cell_type": "code",
   "execution_count": null,
   "metadata": {},
   "outputs": [],
   "source": [
    "songs = api.get_songs()\n",
    "print('Got {} songs and the first one is \"{}\"'.format(len(songs), songs[0][\"name\"]))  # noqa: T201"
   ]
  },
  {
   "cell_type": "markdown",
   "metadata": {},
   "source": [
    "Mass change append a tag to all songs - e.g. 51 is tag:\"in ChurchTools vor Skript Import\""
   ]
  },
  {
   "cell_type": "code",
   "execution_count": null,
   "metadata": {},
   "outputs": [],
   "source": [
    "all_song_ids = [value[\"id\"] for value in songs]\n",
    "for song_id in all_song_ids:\n",
    "    api.add_song_tag(song_id=song_id, song_tag_id=51)"
   ]
  },
  {
   "cell_type": "markdown",
   "metadata": {},
   "source": [
    "# Mass import Gartenschau Termine"
   ]
  },
  {
   "cell_type": "markdown",
   "metadata": {},
   "source": [
    "## prepare dataset"
   ]
  },
  {
   "cell_type": "markdown",
   "metadata": {},
   "source": [
    "### from TXT"
   ]
  },
  {
   "cell_type": "code",
   "execution_count": null,
   "metadata": {},
   "outputs": [],
   "source": [
    "import re\n",
    "from pathlib import Path\n",
    "\n",
    "import pandas as pd\n",
    "\n",
    "pd.set_option(\"display.max_colwidth\", None)\n",
    "\n",
    "with Path(\"import/gartenschau.txt\").open() as file:\n",
    "    raw = file.readlines()\n",
    "\n",
    "PATTERN = r\"([\\d.]+) +(\\d\\d:\\d\\d) +(.+)\"\n",
    "\n",
    "\n",
    "lines = []\n",
    "for line in raw:\n",
    "    line.replace(\"  \", \" \")\n",
    "    data = line[:-1].split(\";\")\n",
    "    split = re.match(pattern=PATTERN, string=data[1].strip()).groups()\n",
    "    lines.append([data[0].strip(), *split, *data[2:]])\n",
    "\n",
    "df_imported = pd.DataFrame(lines)\n",
    "df_imported"
   ]
  },
  {
   "cell_type": "code",
   "execution_count": null,
   "metadata": {},
   "outputs": [],
   "source": [
    "df_imported[\"start_date\"] = pd.to_datetime(\n",
    "    df_imported[1] + \"2025T\" + df_imported[2], format=\"%d.%m.%YT%H:%M\"\n",
    ")\n",
    "df_imported[\"title\"] = df_imported[3]\n",
    "df_imported[\"subtitle\"] = df_imported[4]\n",
    "df_imported[\"notes\"] = df_imported[5]"
   ]
  },
  {
   "cell_type": "markdown",
   "metadata": {},
   "source": [
    "### Cleanup using spreadsheet"
   ]
  },
  {
   "cell_type": "code",
   "execution_count": null,
   "metadata": {},
   "outputs": [],
   "source": [
    "df_imported = df_imported[[\"start_date\", \"title\", \"subtitle\", \"notes\"]]\n",
    "df_imported[\"title\"] = df_imported[\"title\"].str.replace(\"Ökum. \", \"\")\n",
    "df_imported = df_imported.fillna(\"\")"
   ]
  },
  {
   "cell_type": "markdown",
   "metadata": {},
   "source": [
    "Correcting with spreadsheed summary"
   ]
  },
  {
   "cell_type": "code",
   "execution_count": null,
   "metadata": {},
   "outputs": [],
   "source": [
    "# df_imported.to_excel(\"import/gartenschau.xlsx\")  # noqa: ERA001\n",
    "df_new = pd.read_excel(\"import/gartenschau.xlsx\")\n",
    "df_new = df_new.fillna(\"\")\n",
    "df_imported[\"title\"] = df_new.apply(\n",
    "    lambda row: row[\"title\"] + \" (\" + row[\"title2\"] + \")\"\n",
    "    if row[\"title2\"]\n",
    "    else row[\"title\"],\n",
    "    axis=1,\n",
    ")\n",
    "disclaimer = \" - Die Gottesdienste der Gartenschau werden von den Kirchen der ACK Freudenstadt und Baiersbronn gemeinsam veranstaltet. Die Organisation des jeweiligen Termins obliegt der jeweiligen Gruppe, kurzfristige Änderungen vorbehalten.\"\n",
    "df_imported[\"notes\"] = df_imported.apply(lambda row: row[\"notes\"] + disclaimer, axis=1)\n",
    "df_imported"
   ]
  },
  {
   "cell_type": "markdown",
   "metadata": {},
   "source": [
    "## prepare common data for calendar appointment"
   ]
  },
  {
   "cell_type": "code",
   "execution_count": null,
   "metadata": {},
   "outputs": [],
   "source": [
    "from datetime import timedelta\n",
    "\n",
    "import pytz\n",
    "\n",
    "address = {\n",
    "    \"meetingAt\": \"Volksbank Bühne\",\n",
    "    \"city\": \"Baiersbronn\",\n",
    "    \"street\": \"Am Königshammer\",\n",
    "    \"country\": \"DE\",\n",
    "    \"district\": \"Friedrichstal\",\n",
    "    \"latitude\": \"48.4824546\",\n",
    "    \"longitude\": \"8.3756814\",\n",
    "    \"zip\": \"72270\",\n",
    "}\n",
    "\n",
    "GARTENSCHAU_GODI = 73\n",
    "GARTENSCHAU_KONZERT = 76\n",
    "GARTENSCHAU_SONSTIGE = 82\n",
    "GARTENSCHAU_KIDNER = 79\n",
    "\n",
    "cest = pytz.timezone(\"Europe/Berlin\")"
   ]
  },
  {
   "cell_type": "markdown",
   "metadata": {},
   "source": [
    "create events"
   ]
  },
  {
   "cell_type": "markdown",
   "metadata": {},
   "source": [
    "## Delete all existing Events"
   ]
  },
  {
   "cell_type": "code",
   "execution_count": null,
   "metadata": {},
   "outputs": [],
   "source": [
    "from datetime import datetime\n",
    "\n",
    "events = api.get_calendar_appointments(\n",
    "    calendar_ids=[GARTENSCHAU_GODI],\n",
    "    from_=datetime(year=2025, month=5, day=1),\n",
    "    to_=datetime(year=2025, month=10, day=30),\n",
    ")\n",
    "for item in events:\n",
    "    api.delete_calender_appointment(\n",
    "        calendar_id=GARTENSCHAU_GODI, appointment_id=item[\"id\"]\n",
    "    )"
   ]
  },
  {
   "cell_type": "markdown",
   "metadata": {},
   "source": [
    "## Create all new entries"
   ]
  },
  {
   "cell_type": "code",
   "execution_count": null,
   "metadata": {},
   "outputs": [],
   "source": [
    "created_appointment_ids = []\n",
    "\n",
    "for _index, line in df_imported.iterrows():\n",
    "    new_id = api.create_calender_appointment(\n",
    "        calendar_id=GARTENSCHAU_GODI,\n",
    "        startDate=cest.localize(line[\"start_date\"]),\n",
    "        endDate=cest.localize(line[\"start_date\"]) + timedelta(minutes=75),\n",
    "        title=line[\"title\"],\n",
    "        subtitle=line[\"subtitle\"],\n",
    "        description=line[\"notes\"],\n",
    "        address=address,\n",
    "    )\n",
    "    created_appointment_ids.append(new_id)\n",
    "\n",
    "created_ids = [item[\"id\"] for item in created_appointment_ids]"
   ]
  }
 ],
 "metadata": {
  "kernelspec": {
   "display_name": ".venv",
   "language": "python",
   "name": "python3"
  },
  "language_info": {
   "codemirror_mode": {
    "name": "ipython",
    "version": 3
   },
   "file_extension": ".py",
   "mimetype": "text/x-python",
   "name": "python",
   "nbconvert_exporter": "python",
   "pygments_lexer": "ipython3",
   "version": "3.12.3"
  },
  "orig_nbformat": 4
 },
 "nbformat": 4,
 "nbformat_minor": 2
}
